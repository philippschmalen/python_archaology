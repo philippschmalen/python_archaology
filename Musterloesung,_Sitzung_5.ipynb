{
  "nbformat": 4,
  "nbformat_minor": 0,
  "metadata": {
    "colab": {
      "name": "Musterlösung, Sitzung 5",
      "provenance": [],
      "collapsed_sections": []
    },
    "kernelspec": {
      "name": "python3",
      "display_name": "Python 3"
    }
  },
  "cells": [
    {
      "cell_type": "markdown",
      "metadata": {
        "id": "jOdR_i-yPlfd",
        "colab_type": "text"
      },
      "source": [
        "### Aufgabe 1"
      ]
    },
    {
      "cell_type": "code",
      "metadata": {
        "id": "g82oHcUuPUqi",
        "colab_type": "code",
        "outputId": "f60fb7dd-fca3-46ee-c0b3-298ab8ed28e3",
        "colab": {
          "base_uri": "https://localhost:8080/",
          "height": 265
        }
      },
      "source": [
        "from math import sin, cos, radians\n",
        "import matplotlib.pyplot as plt\n",
        "\n",
        "measurements = [(90, 5), (180, 8), (270, 5), (0, 8)]\n",
        "\n",
        "current_x = 500\n",
        "current_y = 600\n",
        "coords = [(current_x, current_y)]\n",
        "\n",
        "def polar_to_cartesian(angle, dist):\n",
        "    return dist * cos(radians(angle)), dist * sin(radians(angle))\n",
        "\n",
        "for measurement in measurements:\n",
        "    x, y = polar_to_cartesian(*measurement)\n",
        "    current_x += x\n",
        "    current_y += y\n",
        "    coords.append((current_x, current_y))\n",
        "\n",
        "plt.plot(*zip(*coords))\n",
        "plt.show()"
      ],
      "execution_count": 0,
      "outputs": [
        {
          "output_type": "display_data",
          "data": {
            "image/png": "[encoded data removed]",
            "text/plain": [
              "<Figure size 432x288 with 1 Axes>"
            ]
          },
          "metadata": {
            "tags": [],
            "needs_background": "light"
          }
        }
      ]
    },
    {
      "cell_type": "markdown",
      "metadata": {
        "id": "6Sr1-tcsPiG3",
        "colab_type": "text"
      },
      "source": [
        "### Aufgabe 2"
      ]
    },
    {
      "cell_type": "code",
      "metadata": {
        "id": "4YBR389Hu1mP",
        "colab_type": "code",
        "colab": {}
      },
      "source": [
        "world_heritage_sites = {\n",
        "    'Machu Picchu': (-13.1635, 72.5457),\n",
        "    'Giza': (29.9766, 31.1330),\n",
        "    'Angkor Wat': (13.4125, 103.8665),\n",
        "    'Stonehenge': (51.1788, -1.8261),\n",
        "    'Petra': (30.3285, 35.4445),\n",
        "    'Thebes': (25.7205, 32.6103),\n",
        "    'Tikal': (17.2221, -89.6235)\n",
        "}"
      ],
      "execution_count": 0,
      "outputs": []
    },
    {
      "cell_type": "code",
      "metadata": {
        "id": "jxA7thzQzYKf",
        "colab_type": "code",
        "outputId": "afbd2d04-ce25-43a8-84a2-142a0c534c1b",
        "colab": {
          "base_uri": "https://localhost:8080/",
          "height": 34
        }
      },
      "source": [
        "import folium\n",
        "\n",
        "my_site = \"\"\n",
        "\n",
        "while my_site != \"quit\":\n",
        "    my_site = input(\"Bitte geben Sie eine Stätte an, die Sie sehen möchten: \")\n",
        "    if my_site in world_heritage_sites:\n",
        "        my_location = world_heritage_sites[my_site]\n",
        "    elif my_site == \"quit\":\n",
        "        break\n",
        "    else:\n",
        "        continue\n",
        "\n",
        "    karte = folium.Map(\n",
        "        tiles = 'http://mt0.google.com/vt/lyrs=s&x={x}&y={y}&z={z}',\n",
        "        attr = 'Google',\n",
        "        location=my_location,\n",
        "        zoom_start=15,\n",
        "        height=400,\n",
        "        width=800\n",
        "    )\n",
        "    my_marker = folium.Marker(my_location)\n",
        "    my_marker.add_to(karte)\n",
        "    display(karte)"
      ],
      "execution_count": 0,
      "outputs": [
        {
          "output_type": "stream",
          "text": [
            "Bitte geben Sie eine Stätte an, die Sie sehen möchten: quit\n"
          ],
          "name": "stdout"
        }
      ]
    }
  ]
}