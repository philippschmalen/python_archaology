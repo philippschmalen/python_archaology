{
 "cells": [
  {
   "cell_type": "markdown",
   "metadata": {
    "colab_type": "text",
    "id": "GPGXo25nZgA0"
   },
   "source": [
    "# Python für Archäologen\n",
    "### Modul-Abschlussprüfung\n",
    "\n",
    "Ulrich Wölfel (Institut für Archäologie und Kulturanthropologie, Universität Bonn)"
   ]
  },
  {
   "cell_type": "markdown",
   "metadata": {
    "colab_type": "text",
    "id": "pbkESJVBEWnT"
   },
   "source": [
    "Für die Modulabschlussprüfung sind die Aufgaben mit Punkten versehen (insgesamt 20 Punkte). Für das Bestehen der Prüfung sind mindestens 5 Punkte erforderlich (Note 4,0). Es gibt eine Bonusaufgabe, mit der zusätzliche Punkte erreicht werden können.\n",
    "\n",
    "Viel Erfolg!"
   ]
  },
  {
   "cell_type": "markdown",
   "metadata": {
    "colab_type": "text",
    "id": "PtBvFFtJZoRI"
   },
   "source": [
    "## Tape-and-Compass, Vollversion\n",
    "\n",
    "Wir haben uns in Übungsaufgabe 1 zur Sitzung 5 bereits einmal kurz mit der Vermessung per \"Tape-and-Compass\" beschäftigt. Wir wollen jetzt das Ganze zu einem vollständigen Programm ausbauen, das uns bei der Verarbeitung von Vermessungsdaten unterstützt.\n",
    "\n",
    "Die Vermessung (= Generierung der Daten) erfolgt dabei in zwei Schritten (die wir in unserem Programm nachbilden wollen): \n",
    "\n",
    "1. Festlegen von **Fixpunkten** (FP), die z.B. mit Stöcken im Gelände markiert werden und dabei ein **Polygon** bilden, das die zu vermessenden Teile der archäologischen Stätte (i.d.R. Gebäude) einschließt. Ausgehend vom ersten Punkt, dessen Koordinaten (in Metern) beliebig festgelegt werden (möglichst so, dass alle resultierenden kartesischen Koordinaten positiv sind), wird zunächst dieses Polygon vermessen. Dabei messen wir immer von einem FP zum nächsten, und zwar *Distanz* und *Orientierung* (Winkel als Abweichung von Nord).\n",
    "\n",
    "2. Ausgehend von den Fixpunkten messen wir anschließend die Gebäude ein, d.h. von *einem FP* aus werden mehrere Messungen, z.B. von Gebäudeecken, vorgenommen.\n",
    "\n",
    "Die Rechenarbeit geht los, wenn wir die Daten, die zunächst nur als Polarkoordinaten vorliegen, in kartesische Koordinaten umwandeln. Hier soll unser kleines Python-Programm unterstützen. Dabei ist wichtig, dass wir die Information darüber berücksichtigen, *von welchem Punkt aus gemessen wird*.\n",
    "\n",
    "Beispieldaten für eine im tiefen Dschungel Mexikos versteckte Maya-Stätte finden Sie in eCampus. Auch einen Screenshot des Endergebnisses finden Sie hier, an dem Sie sich während Ihrer Tests orientieren können."
   ]
  },
  {
   "cell_type": "markdown",
   "metadata": {
    "colab_type": "text",
    "id": "ZSmUHUw1DCJJ"
   },
   "source": [
    "## Aufgabe 1 (10 Punkte)\n",
    "\n",
    "Lesen Sie die Excel-Datei mit den Messwerten (\"Measurements.xlsx\") mittels Pandas in einen Dataframe ein. Schreiben Sie eine Funktion für die Berechnung kartesischer Koordinaten, basierend auf den Koordinaten im Dataframe. Hierbei können Sie die Funktion `polar_to_cartesian()` aus der Aufgabe zu Sitzung 5 verwenden, allerdings sind die Winkel diesmal immer als *Abweichung von der magnetischen Nordrichtung* angegeben (per Kompass gemessen), weshalb Sie vom Winkel 90° abziehen müssen und den errechneten Wert in Radianten mit `-1` multiplizieren müssen.\n",
    "\n",
    "Überlegen Sie sich eine geeignete Datenstruktur für die kartesischen Koordinaten, die neben dem x- und y-Wert auch den Namen (`ID`) des jeweiligen Punktes angibt. Sie können davon ausgehen, dass jeder gemessene Punkt einen eindeutigen Namen hat. Um über die Zeilen eines Pandas-Dataframes iterieren zu können, gibt es die Methode `iterrows()`. Beachten Sie, dass im Dataframe die Spalte `FROM_POINT` angibt, von welchem Punkt aus gemessen wurde. Die Punkte sind in der korrekten Reihenfolge angegeben, das heisst, angefangen vom ersten Fixpunkt `FP0`, für den Sie fiktive Koordinaten wählen, z.B. wieder `x=500` und `y=600`, erfolgt jede nachfolgende Messung von einem bereits gemessenen Punkt aus (für die Sie in der Schleife bereits die kartesischen Koordinaten berechnet haben werden).\n",
    "\n",
    "Berechnen Sie die kartesischen Koordinaten zunächst nur für die Punkte des Polygonszugs (Fixpunkte, Namen beginnen mit \"FP\", Sie können mit der Methode `startswith()` überprüfen, ob ein String mit einem anderen String beginnt). Lassen Sie sich zur Kontrolle den Polygonzug aufplotten (z.B. `plt.plot` aus `matplotlib.pyplot()`).\n"
   ]
  },
  {
   "cell_type": "markdown",
   "metadata": {
    "colab_type": "text",
    "id": "pHKCpRWx_ZcE"
   },
   "source": [
    "## Aufgabe 2 (5 Punkte)\n",
    "\n",
    "Berechnen Sie den Fehler $F$ bei der Vermessung des Polygonzugs (Differenz zwischen `FP0` und `FP0_CORR`) und verteilen Sie diesen auf die einzelnen Punkte des Polygonzugs. Beachten Sie, dass bei `n` Messungen der erste Messwert (`FP0` ist *kein* Messwert) $\\frac{1}{n} \\cdot F$, der zweite Messwert $\\frac{2}{n} \\cdot F$ usw. erhält. \n",
    "\n",
    "Nachdem Sie den Fehler verteilt haben, können Sie die Koordinaten für alle übrigen Punkte (deren Namen mit \"P\" beginnen) berechnen. Lassen Sie sich zur Kontrolle die übrigen Punkte aufplotten (z.B. `plt.scatter()` aus `matplotlib.pyplot`)."
   ]
  },
  {
   "cell_type": "markdown",
   "metadata": {
    "colab_type": "text",
    "id": "JB5txsL3_dWM"
   },
   "source": [
    "## Aufgabe 3 (5 Punkte)\n",
    "\n",
    "Lesen Sie jetzt die Textdatei mit den Informationen zu den Linien für die Gebäude ein. Hierfür können Sie mit `open()` die Datei zum Lesen öffnen, in einer `for`-Schleife können Sie über die Zeilen der Datei iterieren und mit `split()` trennen Sie die Zeilen an den Leerzeichen in einzelne Strings auf (`split()` liefert eine Liste). Plotten Sie die einzelnen Linien."
   ]
  },
  {
   "cell_type": "markdown",
   "metadata": {
    "colab_type": "text",
    "id": "j2KGBjXd_fTc"
   },
   "source": [
    "## Aufgabe 4 [Bonus-Aufgabe] (8 Punkte)\n",
    "\n",
    "Wir wollen abschließend die Vermessungsdaten in unser Geoinformationssystem laden. Dazu müssen wir \n",
    "\n",
    "1.  QGIS-Vektorobjekte anlegen, einmal für die Punkte und einmal für die Linien und\n",
    "2.  unsere in unserem fiktiven Koordinatensystem gemessenen Objekte zu georeferenzieren, wobei wir auf (z.B. per GPS gemessene) Koordinaten in einem globalen Koordinatensystem zurückgreifen.\n",
    "\n",
    "Das verwendete Koordinatenbezugssystem ist UTM (Universal Transverse Mercator, ein projiziertes KBS, das in Einheiten von Metern misst und damit gut zu unseren Messdaten passt), das Datum ist dasselbe wie bei unserem Lat/Lon, WGS84, die UTM-Zone ist 15N, entsprechend lautet der EPSG-Code 32615. Diesen können wir bei der Erzeugung der Layer mit der Option `\"crs=epsg:32615\"` angeben.\n",
    "\n",
    "Für die Georeferenzierung können wir auf die Processing-Toolbox von QGIS zurückgreifen (siehe Sitzung 8!). Die Funktion, die wir verwenden können, heisst `\"gdal:convertformat\"`. Sie erhält drei Parameter:\n",
    "\n",
    "*  `'INPUT'`: der Input-Layer, hier können wir einfach die im vorigen Schritt erstellten Layer verwenden,\n",
    "*  `'OPTIONS'`: ein String, der verschiedene Optionen angibt, wir übergeben zum einen die GCPs (Ground-Control-Points), und zwar wie folgt: jeder GCP wird mit `-gcp` \"angekündigt\", gefolgt von den Koordinaten für die Fixpunkte, zuerst die ungeoreferenzierten (x und y), danach die GPS-Koordinaten (x und y); außerdem geben wir durch die Option `-order 1` an, dass wir eine lineare Transformation für die Koordinaten wünschen; alle diese Optionen werden als ein String übergeben,\n",
    "*  `'OUTPUT'`: der Output-Layer, hier können wir zum Testen einfach `'TEMPORARY_OUTPUT'` verwenden, um ein Memory-Layer anzulegen.\n",
    "\n",
    "Die GCPs liegen bereits als Python-Dictionary vor (und sind auch schon ins richtige Koordinatensystem umgewandelt):"
   ]
  },
  {
   "cell_type": "code",
   "execution_count": null,
   "metadata": {
    "colab": {},
    "colab_type": "code",
    "id": "4UL-JfDwF8Y-"
   },
   "outputs": [],
   "source": [
    "GCPs <- {\n",
    "    'FP0_GPS': (699673.987372798, 1832081.754286769),\n",
    "    'FP1_GPS': (699746.5636115011, 1832093.0375018292),\n",
    "    'FP2_GPS': (699812.2266256256, 1832101.2375985382),\n",
    "    'FP3_GPS': (699929.8190355556, 1832116.1149446527),\n",
    "    'FP4_GPS': (699958.6972473218, 1832191.9985344461),\n",
    "    'FP5_GPS': (699917.4051545678, 1832242.565910711),\n",
    "    'FP6_GPS': (699803.0148509502, 1832239.2269035613),\n",
    "    'FP7_GPS': (699746.9893744275, 1832246.0152288144),\n",
    "    'FP8_GPS': (699697.909657635, 1832203.011353895),\n",
    "    'FP9_GPS': (699623.5765434161, 1832184.9289938512),\n",
    "    'FP10_GPS': (699604.005306184, 1832104.601035179)\n",
    "}"
   ]
  }
 ],
 "metadata": {
  "colab": {
   "collapsed_sections": [],
   "name": "Modul-Abschlussprüfung Python",
   "provenance": [],
   "toc_visible": true
  },
  "kernelspec": {
   "display_name": "Python 3",
   "language": "python",
   "name": "python3"
  },
  "language_info": {
   "codemirror_mode": {
    "name": "ipython",
    "version": 3
   },
   "file_extension": ".py",
   "mimetype": "text/x-python",
   "name": "python",
   "nbconvert_exporter": "python",
   "pygments_lexer": "ipython3",
   "version": "3.7.6"
  }
 },
 "nbformat": 4,
 "nbformat_minor": 4
}
