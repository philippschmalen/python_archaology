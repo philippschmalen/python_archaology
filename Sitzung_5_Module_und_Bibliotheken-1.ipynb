{
  "nbformat": 4,
  "nbformat_minor": 0,
  "metadata": {
    "colab": {
      "name": "Sitzung 5: Module und Bibliotheken",
      "provenance": [],
      "collapsed_sections": [],
      "toc_visible": true
    },
    "kernelspec": {
      "name": "python3",
      "display_name": "Python 3"
    }
  },
  "cells": [
    {
      "cell_type": "markdown",
      "metadata": {
        "id": "FiDqdvcn_8EI",
        "colab_type": "text"
      },
      "source": [
        "# Python für Archäologen\n",
        "### Sitzung 5: Module und Bibliotheken\n",
        "\n",
        "Ulrich Wölfel (Institut für Archäologie und Kulturanthropologie, Universität Bonn)"
      ]
    },
    {
      "cell_type": "markdown",
      "metadata": {
        "id": "pozg6GCrvFmi",
        "colab_type": "text"
      },
      "source": [
        "## 1 Module\n",
        "\n",
        "![alt text](https://img.devrant.com/devrant/rant/r_102994_Qv16S.jpg)\n",
        "\n",
        "Komplette Version: [https://i.imgur.com/ZyeCO.jpg](https://i.imgur.com/ZyeCO.jpg)"
      ]
    },
    {
      "cell_type": "markdown",
      "metadata": {
        "id": "FdsYAiZw0PZx",
        "colab_type": "text"
      },
      "source": [
        "In Python stellen *Module* zusätzliche Funktionalität für spezielle Aufgaben zur Verfügung. Dabei ist ein Modul nichts anderes, als eine Zusammenstellung von Funktionen (und auch anderer Konzepte, die wir bisher noch nicht näher kennengelernt haben, wie Konstanten, Klassen...), die typischerweise zur Lösung verwandter Aufgaben dienen. Solch ein Modul kann dem Befehl `import` in die aktuelle Python-Umgebung geladen werden:\n",
        "\n",
        "`import modulname`\n",
        "\n",
        "**Achtung**: Solche `import`-Anweisungen sollten *immer am Anfang eines Programms stehen*! Auf diese Weise behalten wir stets den Überblick darüber, was wir alles importieren und vermeiden ein großes Durcheinander im weiteren Verlauf des Programms.\n",
        "\n",
        "Beispielsweise können wir das Modul `datetime` (für Datums- und Uhrzeitfunktionen) wie folgt importieren:"
      ]
    },
    {
      "cell_type": "code",
      "metadata": {
        "id": "5dRNwcUPHshL",
        "colab_type": "code",
        "colab": {}
      },
      "source": [
        "import datetime"
      ],
      "execution_count": 0,
      "outputs": []
    },
    {
      "cell_type": "markdown",
      "metadata": {
        "id": "d750fXi0Hv2p",
        "colab_type": "text"
      },
      "source": [
        "Jetzt steht uns alle Funktionalität aus dem Modul zur Verfügung. Wir können Funktionen aus diesem Modul benutzen, indem wir ihrem Namen den Namen des Moduls voranstellen und die beiden Teile durch einen Punkt trennen, also:\n",
        "\n",
        "`modulname.funktionsname`"
      ]
    },
    {
      "cell_type": "code",
      "metadata": {
        "id": "Qc97QimuII_a",
        "colab_type": "code",
        "colab": {}
      },
      "source": [
        "heute = datetime.date(2020, 5, 12)"
      ],
      "execution_count": 0,
      "outputs": []
    },
    {
      "cell_type": "markdown",
      "metadata": {
        "id": "kKYKfvRaHTe-",
        "colab_type": "text"
      },
      "source": [
        "Es gibt zum einen Module, die *standardmäßig* zu Python gehören (wie z.B. `datetime`), die also immer zur Verfügung stehen, und zum anderen gibt es weitere Module, die in der Regel erst installiert werden müssen. Bei Colab sind viele dieser Module bereits vorinstalliert, wir müssen sie also nur noch importieren!\n",
        "\n",
        "Warum werden nicht einfach *alle* installierten Module gleich beim Start in die Python-Umgebung geladen? Aus Effizienzgründen - das Laden eines Moduls kostet Zeit und belegt wertvolle Ressourcen, speziell Arbeitsspeicher. Meist benötigen wir für ein Programm nur eine kleine Menge von zusätzlichen Modulen, weshalb es wesentlich einfacher ist, nur die Module zu laden, die wir wirklich brauchen, als eine Menge unnötigen Ballast mitzuschleppen.\n",
        "\n",
        "Aus genau diesen Überlegungen möchten wir manchmal auch nur einzelne Funktionen aus einem Modul importieren. In Python ist dies wie folgt möglich:"
      ]
    },
    {
      "cell_type": "code",
      "metadata": {
        "id": "j8bI33NDJGea",
        "colab_type": "code",
        "colab": {}
      },
      "source": [
        "from datetime import date"
      ],
      "execution_count": 0,
      "outputs": []
    },
    {
      "cell_type": "markdown",
      "metadata": {
        "id": "lEt123VxJKRG",
        "colab_type": "text"
      },
      "source": [
        "Hier wird aus dem Modul `datetime` *nur* die Funktion `date` importiert (wir können auch mehrere Funktionen angeben, durch Kommata getrennt). Damit steht uns jetzt die Funktion `date` zur Verfügung - und zwar (weil wir sie separat importiert haben) unter ihrem Namen *ohne* dass wir den Modulnamen voranstellen müssen:"
      ]
    },
    {
      "cell_type": "code",
      "metadata": {
        "id": "lPFc8bBdJYGb",
        "colab_type": "code",
        "colab": {}
      },
      "source": [
        "heute = date(2020, 5, 12)"
      ],
      "execution_count": 0,
      "outputs": []
    },
    {
      "cell_type": "markdown",
      "metadata": {
        "id": "efOfmh1YJzz9",
        "colab_type": "text"
      },
      "source": [
        "Eine weitere Möglichkeit beim Importieren eines Moduls oder einer Funktion aus einem Modul ist, dass wir seinen Namen durch einen *Alias* ersetzen können. Warum sollten wir das wollen? Zum einen kann es sein, dass der Name der importierten Funktion oder des Moduls bereits in unserem Programm vergeben wurde und es somit zu einem Konflikt kommt, oder aber der Name ist zu lang, um ihn jedes Mal vollständig auszuschreiben. Hierfür gibt es das Schlüsselwort `as`:"
      ]
    },
    {
      "cell_type": "code",
      "metadata": {
        "id": "Xre-c_eKJwDi",
        "colab_type": "code",
        "colab": {}
      },
      "source": [
        "import datetime as dt"
      ],
      "execution_count": 0,
      "outputs": []
    },
    {
      "cell_type": "markdown",
      "metadata": {
        "id": "0WQbFdSeK7za",
        "colab_type": "text"
      },
      "source": [
        "Jetzt sind alle Funktionen aus `datetime` unter dem Modulnamenalias `dt` verfügbar:"
      ]
    },
    {
      "cell_type": "code",
      "metadata": {
        "id": "y6YRbbMQLB28",
        "colab_type": "code",
        "outputId": "047f1ebc-d0f9-45af-e36f-be9ee09cc84e",
        "colab": {
          "base_uri": "https://localhost:8080/",
          "height": 34
        }
      },
      "source": [
        "morgen = dt.date(2020, 5, 13)\n",
        "print(morgen - heute)"
      ],
      "execution_count": 0,
      "outputs": [
        {
          "output_type": "stream",
          "text": [
            "1 day, 0:00:00\n"
          ],
          "name": "stdout"
        }
      ]
    },
    {
      "cell_type": "markdown",
      "metadata": {
        "id": "oRkgXsskOc4-",
        "colab_type": "text"
      },
      "source": [
        "Ein anderes Beispiel zeigt den Alias einer bestimmten Funktion (in diesem Beispiel ist der ursprüngliche Name schon sehr kurz, aber wir können einen deutschen Namen vergeben):"
      ]
    },
    {
      "cell_type": "code",
      "metadata": {
        "id": "irhJfm0YOI2Q",
        "colab_type": "code",
        "outputId": "d554c38f-9bb0-4af2-ee57-91c2c6a8e292",
        "colab": {
          "base_uri": "https://localhost:8080/",
          "height": 34
        }
      },
      "source": [
        "from datetime import date as datum\n",
        "morgen = datum(2020, 5, 13)\n",
        "print(morgen - heute)"
      ],
      "execution_count": 0,
      "outputs": [
        {
          "output_type": "stream",
          "text": [
            "1 day, 0:00:00\n"
          ],
          "name": "stdout"
        }
      ]
    },
    {
      "cell_type": "markdown",
      "metadata": {
        "id": "0KuEuCWVMrvW",
        "colab_type": "text"
      },
      "source": [
        "Module können auch *Untermodule* besitzen und so ganze Pakete (englisch: *packages*) oder Sammlungen von Modulen bilden. So wie zum Beispiel die Namen von Modulen und Funktionen durch Punkte getrennt sind, werden auch die Namen von Modulen und ihren Untermodulen durch Punkte getrennt. Wir werden weiter unten mit `matplotlib.pyplot` ein häufig verwendetes Untermodul des `matplotlib`-Pakets kennenlernen. Liegen Untermodule vor, so können wir entweder (a) das ganze Paket (`import matplotlib`) oder (b) ein individuelles Untermodul (`import matplotlib.pyplot`) oder (c) eine bestimmte Funktion aus einem Untermodul (`from matplotlib.pyplot import plot`) importieren.\n",
        "\n",
        "Im Folgenden schauen wir uns ein paar Beispiele von nützlichen Modulen an. Für alle Module gibt es im Internet eine Dokumentation, die uns einen Überblick über die zur Verfügung gestellte Funktionalität gibt. Das Lesen dieser Dokumentation ist unerlässlich, um mit Python zu arbeiten. Für besonders populäre (und umfangreiche) Module sind sogar eigene Bücher erschienen."
      ]
    },
    {
      "cell_type": "markdown",
      "metadata": {
        "id": "zojOWz_jzauI",
        "colab_type": "text"
      },
      "source": [
        "## 2 Standard-Module\n",
        "\n",
        "Die *Python Standard Library* stellt [zahlreiche Module](https://docs.python.org/3/library/) zur Verfügung. Einige der wichtigsten Module sind:\n",
        "\n",
        "*  `math` - grundlegende mathematische Funktionen,\n",
        "*  `datetime` - Verarbeitung von Datum und Uhrzeit,\n",
        "*  `re` - reguläre Ausdrücke - eine eigene Sprache zum Durchsuchen und Manipulieren von Text - ein äußerst mächtiges (aber auch kompliziertes) Werkzeug,\n",
        "*  `os` - Funktionen, um mit dem Betriebssystem zu interagieren, \n",
        "*  `sqlite3` - Zugriff auf das weitverbreitete relationale Datenbankmanagementsystem SQLite,\n",
        "*  `urllib` - Zugriff auf das Internet über URLs.\n",
        "\n",
        "Wir wollen nachfolgend einen kurzen Blick auf zwei dieser Module werfen, in späteren Sitzungen werden uns einige andere Module begegnen, die wir uns dann näher ansehen."
      ]
    },
    {
      "cell_type": "markdown",
      "metadata": {
        "id": "Fw6uvgvEAMwm",
        "colab_type": "text"
      },
      "source": [
        "### 2.1 Das Modul `datetime`\n",
        "\n",
        "Das Modul [`datetime`](https://docs.python.org/3/library/datetime.html) stellt *Klassen* (dazu mehr in der kommenden Sitzung) zu Uhrzeit und Datum zur Verfügung. Wir haben bereits oben gesehen, wie ein bestimmtes Datum angelegt werden kann und wie zum Beispiel die Differenz zwischen zwei Datumsangaben durch einfache Subtraktion berechnet werden kann. Ebenso lassen sich Zeitangaben erzeugen:"
      ]
    },
    {
      "cell_type": "code",
      "metadata": {
        "id": "3m5H-y5KALpR",
        "colab_type": "code",
        "outputId": "3531b3eb-27d0-4944-e0fd-8afaf9b8f820",
        "colab": {
          "base_uri": "https://localhost:8080/",
          "height": 34
        }
      },
      "source": [
        "print(f\"Die Zoom-Sitzung beginnt um {dt.time(14, 15, 00)}\")"
      ],
      "execution_count": 0,
      "outputs": [
        {
          "output_type": "stream",
          "text": [
            "Die Zoom-Sitzung beginnt um 14:15:00\n"
          ],
          "name": "stdout"
        }
      ]
    },
    {
      "cell_type": "markdown",
      "metadata": {
        "id": "YoIbI7t1rgtP",
        "colab_type": "text"
      },
      "source": [
        "Es gibt zahlreiche weitere Funktionen, etwa `now()`, um den aktuellen Zeitstempel zu erhalten:"
      ]
    },
    {
      "cell_type": "code",
      "metadata": {
        "id": "rYmtHFdNrqxf",
        "colab_type": "code",
        "outputId": "cbf64953-8ba7-4afd-8dcc-01d474a7db7a",
        "colab": {
          "base_uri": "https://localhost:8080/",
          "height": 34
        }
      },
      "source": [
        "print(dt.datetime.now())"
      ],
      "execution_count": 0,
      "outputs": [
        {
          "output_type": "stream",
          "text": [
            "2020-05-13 15:37:45.256323\n"
          ],
          "name": "stdout"
        }
      ]
    },
    {
      "cell_type": "markdown",
      "metadata": {
        "id": "gnfEe4BIX5pJ",
        "colab_type": "text"
      },
      "source": [
        "### 2.2 Das Modul `math`\n",
        "\n",
        "Wie der Name schon nahelegt, bietet das Modul [`math`](https://docs.python.org/3/library/math.html) verschiedene grundlegende mathematische Funktionen. \n",
        "\n",
        "Importieren wir also erst einmal das Modul:"
      ]
    },
    {
      "cell_type": "code",
      "metadata": {
        "id": "RisMEpt_zfBu",
        "colab_type": "code",
        "colab": {}
      },
      "source": [
        "import math"
      ],
      "execution_count": 0,
      "outputs": []
    },
    {
      "cell_type": "markdown",
      "metadata": {
        "id": "6Vz8x-Qg98zH",
        "colab_type": "text"
      },
      "source": [
        "Jetzt stehen uns die Funktionen aus dem Modul `math` zur Verfügung. Die wichtigsten Funktionen aus `math` sind:\n",
        "\n",
        "*  `math.ceil(x)` - berechnet die nächst kleinere Ganzzahl zu einer Gleitkommazahl,\n",
        "*  `math.floor(x)`  - berechnet die nächst größere Ganzzahl zu einer Gleitkommazahl,\n",
        "*  `math.log(x[, base])` - berechnet den Logarithmus (standardmäßig ist das der natürliche Logarithmus, eine andere Basis kann aber angegeben werden)\n",
        "*  `math.sqrt(x)` - berechnet die Wurzelfunktion,\n",
        "*  `math.sin(x)` - berechnet den Sinus im [Bogenmaß](https://de.wikipedia.org/wiki/Radiant_(Einheit)),\n",
        "*  `math.cos(x)` - berechnet den Cosinus im Bogenmaß,\n",
        "*  `math.tan(x)` - berechnet den Tangens im Bogenmaß,\n",
        "*  `math.degrees(x)` - wandelt vom Bogenmaß in Grad um, \n",
        "*  `math.radians(x)` - wandelt von Grad ins Bogenmaß um.\n",
        "\n",
        "Daneben gibt es noch eine Reihe mathematischer *Konstanten*, unter anderem `math.pi` und `math.e`.\n",
        "\n",
        "Konstanten sind *unveränderliche Werte*, die einmal definiert werden und anschließend nur noch *lesend* verwendet werden können. Sie machen dann Sinn, wenn bestimmte Werte immer wieder in einem Programm verwendet werden sollen und man nicht jedes Mal diesen Wert eingeben möchte (und dabei Gefahr läuft, sich zu vertippen). Die \"sprechenden\" Namen erleichern das Verständnis des Programms: jeder kann sich sofort denken, welcher Wert sich hinter `math.pi` verbergen wird (auch wenn wir vielleicht nicht wissen, bis zu welcher Stelle diese irrationale Zahl angegeben ist). Dass unser `math.pi` nur eine begrenzte Genauigkeit besitzt, sehen wir sofort, wenn wir sie verwenden:"
      ]
    },
    {
      "cell_type": "code",
      "metadata": {
        "id": "ykdr0qY692nT",
        "colab_type": "code",
        "outputId": "200ce629-e024-4c3e-9260-5c43bfa15dd2",
        "colab": {
          "base_uri": "https://localhost:8080/",
          "height": 34
        }
      },
      "source": [
        "math.sin(math.pi)"
      ],
      "execution_count": 0,
      "outputs": [
        {
          "output_type": "execute_result",
          "data": {
            "text/plain": [
              "1.2246467991473532e-16"
            ]
          },
          "metadata": {
            "tags": []
          },
          "execution_count": 13
        }
      ]
    },
    {
      "cell_type": "markdown",
      "metadata": {
        "id": "uaps9qW4-RuX",
        "colab_type": "text"
      },
      "source": [
        "Das Ergebnis sollte eigentlich `0` sein, ist es aber nicht. Dies ist einer der Gründe, weshalb wir bei der Verwendung von Gleitkommazahlen immer auf der Hut sein sollten und z.B. niemals Vergleiche mit dem `==`-Operator machen sollten:"
      ]
    },
    {
      "cell_type": "code",
      "metadata": {
        "id": "nRtsufAO-kj6",
        "colab_type": "code",
        "outputId": "b6e8e145-eb60-47cb-84a2-61f87b20f5d1",
        "colab": {
          "base_uri": "https://localhost:8080/",
          "height": 34
        }
      },
      "source": [
        "if math.sin(math.pi) == 0:\n",
        "    print(\"Python ist heute ganz unerwartet genau!\")\n",
        "else:\n",
        "    print(\"Laut Python ist der Sinus von Pi ungleich 0!\")"
      ],
      "execution_count": 0,
      "outputs": [
        {
          "output_type": "stream",
          "text": [
            "Laut Python ist der Sinus von Pi ungleich 0!\n"
          ],
          "name": "stdout"
        }
      ]
    },
    {
      "cell_type": "markdown",
      "metadata": {
        "id": "zoVTj4bz9SIq",
        "colab_type": "text"
      },
      "source": [
        "Abhilfe schafft hier ein Vergleich mit einer sehr kleinen Zahl:"
      ]
    },
    {
      "cell_type": "code",
      "metadata": {
        "id": "uUC0W1vz_n_T",
        "colab_type": "code",
        "outputId": "a84a33e8-6670-44b7-88fe-340ea6498074",
        "colab": {
          "base_uri": "https://localhost:8080/",
          "height": 34
        }
      },
      "source": [
        "if math.sin(math.pi) < 1e-15:\n",
        "    print(\"Python sagt: der Sinus von Pi ist gleich 0 (bis auf die Maschinengenauigkeit)!\")\n",
        "else:\n",
        "    print(\"Irgendwas stimmt heute nicht mit Python...\")"
      ],
      "execution_count": 0,
      "outputs": [
        {
          "output_type": "stream",
          "text": [
            "Python sagt: der Sinus von Pi ist gleich 0 (bis auf die Maschinengenauigkeit)!\n"
          ],
          "name": "stdout"
        }
      ]
    },
    {
      "cell_type": "markdown",
      "metadata": {
        "id": "Kv-qcR9v_lCb",
        "colab_type": "text"
      },
      "source": [
        "Jetzt wollen wir uns aber einmal ein produktives Beispiel dafür ansehen, wie wir die Funktionen aus dem `math`-Modul sinnvoll einsetzen können, etwa bei der Berechnung des [Euklidischen Abstands](https://de.wikipedia.org/wiki/Euklidischer_Abstand) \n",
        "\n",
        "$$d(p, q) = \\sqrt{ (p_0 - q_0)^2 + (p_1 - q_1)^2}$$\n",
        "\n",
        "zwischen zwei Punkten $p = (p_0, p_1)$ und $q = (q_0, q_1)$ in einem zweidimensionalen [kartesischen Koordinatensystem](https://de.wikipedia.org/wiki/Kartesisches_Koordinatensystem):"
      ]
    },
    {
      "cell_type": "code",
      "metadata": {
        "id": "hPSMMIKi9MGq",
        "colab_type": "code",
        "outputId": "057756cc-607c-4cd2-ac55-84e00e4e655d",
        "colab": {
          "base_uri": "https://localhost:8080/",
          "height": 34
        }
      },
      "source": [
        "def euklidischer_abstand(punkt1, punkt2):\n",
        "    return math.sqrt((punkt1[0] - punkt2[0]) ** 2 + (punkt1[1] - punkt2[1]) ** 2)\n",
        "        \n",
        "punkt1 = (1, 0)\n",
        "punkt2 = (2, 1)\n",
        "\n",
        "print(f\"Der Euklidische Abstand zwischen den Punkten {punkt1} und {punkt2} \" +\n",
        "      f\"beträgt {euklidischer_abstand(punkt1, punkt2)}.\")"
      ],
      "execution_count": 0,
      "outputs": [
        {
          "output_type": "stream",
          "text": [
            "Der Euklidische Abstand zwischen den Punkten (1, 0) und (2, 1) beträgt 1.4142135623730951.\n"
          ],
          "name": "stdout"
        }
      ]
    },
    {
      "cell_type": "markdown",
      "metadata": {
        "id": "I8TK9kO3Xkrl",
        "colab_type": "text"
      },
      "source": [
        "## 3 Weitere Module\n",
        "\n",
        "Neben den Modulen der Standard-Bibliothek gibt es zahlreiche(!) weitere Module. Für uns als Archäologen sind natürlich nicht alle Anwendungsgebiete gleich relevant. Für drei interessante Bereiche sind nachfolgend die wichtigsten Module aufgelistet, von denen wir im Rahmen des Kurses auch noch einige kennenlernen werden:\n",
        "\n",
        "### \"Data Science\" / Statistik / wissenschaftliches Rechnen\n",
        "\n",
        "*  [NumPy](https://numpy.org/devdocs/) - ist ein Modul für numerisches Rechnen und stellt die Datenstruktur des n-dimensionalen Arrays zur Verfügung, sowie verschiedene numerische Funktionen (lineare Algebra, Statistik, Fourier-Transformationen...),\n",
        "*  [SciPy](https://docs.scipy.org/doc/scipy/reference/) - ist ein Modul, das NumPy um verschiedene numerische Algorithmen ergänzt und hierfür zahlreiche Untermodule zur Verfügung stellt, insbesondere für uns interessant ist das Untermodul `scipy.spatial` für räumliche Analysen,\n",
        "*  [Pandas](https://pandas.pydata.org/docs/) - ist eine Datenanalyse-Bibliothek, die vor allem die Datenstruktur \"Dataframe\" (analog zu Datenbanktabellen, siehe auch R) zur Verfügung stellt,\n",
        "*  [Matplotlib](https://matplotlib.org) - ist eine Bibliothek für mathematische Visualisierung mit umfangreichen Plotwerkzeugen.\n",
        "\n",
        "### Geodatenverarbeitung\n",
        "\n",
        "*  [GDAL](https://gdal.org/python/) - GDAL (Geospatial Data Abstraction Layer) ist *die* Open Source Bibliothek für die Nutzung von Geodaten, sie unterstützt praktisch alle gängigen Datenformate und liegt zahlreichen Programmen zugrunde, insbesondere QGIS und GRASS, zwei der beliebtesten Open Source GIS Programme,\n",
        "*  [Geopandas](https://geopandas.org) - ist eine Erweiterung für Pandas, die die Verwendung von Geodaten unterstützt,\n",
        "*  [Earth Engine](https://earthengine.google.com) - ist eine Cloud-basierte Plattform von Google für die Verarbeitung von Geodaten, speziell ausgelegt für Satellitendaten und große Datensätze, sie wurde ursprünglich für JavaScript entwickelt (warum auch immer!), unterstützt aber auch Python,\n",
        "*  [Folium](https://python-visualization.github.io/folium/) - dient der schicken Anzeige und Navigation in Kartenlayern.\n",
        "\n",
        "### Maschinelles Lernen (ML)\n",
        "\n",
        "*  [Tensorflow](https://www.tensorflow.org) - ist ein Modul von Google zu ML, das sehr umfangreich, aber auch recht komplex ist,\n",
        "*  [Keras](https://keras.io/getting_started/) - ist eine einsteigerfreundliche Schnittstelle für verschiedene ML-Bibliotheken (u.a. auch Tensorflow),\n",
        "*  [Scikit-Learn](https://scikit-learn.org/stable/) - ist eine auf SciPy und NumPy basierende ML-Bibliothek.\n",
        "\n",
        "Einige dieser Module sind sehr umfangreich und böten Stoff für mehrere Lehrveranstaltungen (etwa das SciPy/NumPy/Pandas-Ökosystem), so dass wir uns in diesem Kurs damit begnügen müssen, einige wenige Funktionen ausgewählter Module kennenzulernen. Nachfolgend werden wir nur kurz einen ganz oberflächlichen Blick auf drei Modulen werfen."
      ]
    },
    {
      "cell_type": "markdown",
      "metadata": {
        "id": "4F3U8YhTYWEv",
        "colab_type": "text"
      },
      "source": [
        "### 3.1 Das Modul `numpy`\n",
        "\n",
        "NumPy ist, wie bereits erwähnt, zusammen mit SciPy für numerische Berechnungen zuständig und stellt Arrays als eigene Datenstruktur zur Verfügung. Inspiriert wurden diese Bibliotheken durch das weit verbreitete kommerzielle numerische Computeralgebrasystem [Matlab](https://de.mathworks.com/products/matlab.html).\n",
        " \n",
        "Wir können NumPy wie folgt importieren:"
      ]
    },
    {
      "cell_type": "code",
      "metadata": {
        "id": "bxTFtsx_YeQB",
        "colab_type": "code",
        "colab": {}
      },
      "source": [
        "import numpy as np"
      ],
      "execution_count": 0,
      "outputs": []
    },
    {
      "cell_type": "markdown",
      "metadata": {
        "id": "3YC4BqDvdC8G",
        "colab_type": "text"
      },
      "source": [
        "Die Erzeugung von Integer-Sequenzen mit `range()` haben wir bereits kennengelernt. Mit NumPy können wir auch Sequenzen von Gleitkommazahlen erzeugen. Hierfür gibt es die Funktion `arange()`, die analog zu `range()` funktioniert (auch hier ist wieder der Startwert enthalten, der Endwert dagegen nicht, der dritte Parameter gibt die Schrittweite an, standardmäßig ist sie `1.0`):"
      ]
    },
    {
      "cell_type": "code",
      "metadata": {
        "id": "N_TM7wbXd3oa",
        "colab_type": "code",
        "outputId": "b13b6255-d471-47bf-b4ab-430cd6cc5ed7",
        "colab": {
          "base_uri": "https://localhost:8080/",
          "height": 34
        }
      },
      "source": [
        "np.arange(1.0, 2.0, 0.1)"
      ],
      "execution_count": 0,
      "outputs": [
        {
          "output_type": "execute_result",
          "data": {
            "text/plain": [
              "array([1. , 1.1, 1.2, 1.3, 1.4, 1.5, 1.6, 1.7, 1.8, 1.9])"
            ]
          },
          "metadata": {
            "tags": []
          },
          "execution_count": 25
        }
      ]
    },
    {
      "cell_type": "markdown",
      "metadata": {
        "id": "2zSGZGejZodh",
        "colab_type": "text"
      },
      "source": [
        "Die NumPy-Datenstruktur `array` erleichtert uns die Arbeit mit numerischen Datensätzen. In einem NumPy-Array können wir immer nur Werte *eines* Datentyps speichern (im Gegensatz zu Listen). Dadurch wird die Verwaltung dieser Daten aber deutlich effizienter (sprich: schneller, gerade bei größeren Datenmengen). Wir können unsere Liste mit Pfostenloch-Durchmessern einfach über die Funktion `array()` in ein NumPy-Array umwandeln:"
      ]
    },
    {
      "cell_type": "code",
      "metadata": {
        "id": "zMozswukYgrl",
        "colab_type": "code",
        "colab": {}
      },
      "source": [
        "diam_postholes = [20.4, 19.7, 22.9, 15.4, 17.1, 28.6, 18.5, 23.2]\n",
        "diam_postholes_np = np.array(diam_postholes)"
      ],
      "execution_count": 0,
      "outputs": []
    },
    {
      "cell_type": "markdown",
      "metadata": {
        "id": "RBk_AaTpae0u",
        "colab_type": "text"
      },
      "source": [
        "NumPy-Arrays lassen sich sehr einfach manipulieren, zum Beispiel können wir alle Werte des Arrays durch 100 teilen (um etwa von Zentimetern in Meter umzuwandeln):"
      ]
    },
    {
      "cell_type": "code",
      "metadata": {
        "id": "FrbLX_gWac-A",
        "colab_type": "code",
        "outputId": "f1cf6484-96b9-47bb-e8ac-6750782afc59",
        "colab": {
          "base_uri": "https://localhost:8080/",
          "height": 34
        }
      },
      "source": [
        "diam_postholes_np / 100"
      ],
      "execution_count": 0,
      "outputs": [
        {
          "output_type": "execute_result",
          "data": {
            "text/plain": [
              "array([0.204, 0.197, 0.229, 0.154, 0.171, 0.286, 0.185, 0.232])"
            ]
          },
          "metadata": {
            "tags": []
          },
          "execution_count": 7
        }
      ]
    },
    {
      "cell_type": "markdown",
      "metadata": {
        "id": "H4s4LctWatvs",
        "colab_type": "text"
      },
      "source": [
        "Das ist mit einer Liste nicht so einfach und elegant möglich!\n",
        "\n",
        "Wir können neben einem solchen eindimensionalen Array (mathematisch wäre dies ein *Vektor*) auch ein zweidimensionales Array (also eine Matrix) erzeugen:"
      ]
    },
    {
      "cell_type": "code",
      "metadata": {
        "id": "noIm3lgibXyQ",
        "colab_type": "code",
        "outputId": "fec72c82-a4be-4f35-faa9-c31cba45e334",
        "colab": {
          "base_uri": "https://localhost:8080/",
          "height": 86
        }
      },
      "source": [
        "meine_matrix = np.array([[1,4,7], [5,8,2], [9,3,5], [7,4,2]])\n",
        "print(meine_matrix)"
      ],
      "execution_count": 0,
      "outputs": [
        {
          "output_type": "stream",
          "text": [
            "[[1 4 7]\n",
            " [5 8 2]\n",
            " [9 3 5]\n",
            " [7 4 2]]\n"
          ],
          "name": "stdout"
        }
      ]
    },
    {
      "cell_type": "markdown",
      "metadata": {
        "id": "ypoPUYaEcC3m",
        "colab_type": "text"
      },
      "source": [
        "Die Addition von Matrizen funktioniert wie erwartet:"
      ]
    },
    {
      "cell_type": "code",
      "metadata": {
        "id": "FQ4ieaaIcCWc",
        "colab_type": "code",
        "outputId": "d49aa4c0-eee1-4eaf-a613-b39e41a46492",
        "colab": {
          "base_uri": "https://localhost:8080/",
          "height": 86
        }
      },
      "source": [
        "zweite_matrix = np.array([[2,7,3], [9,3,2], [0,2,5], [4,6,8]])\n",
        "print(meine_matrix + zweite_matrix)"
      ],
      "execution_count": 0,
      "outputs": [
        {
          "output_type": "stream",
          "text": [
            "[[ 3 11 10]\n",
            " [14 11  4]\n",
            " [ 9  5 10]\n",
            " [11 10 10]]\n"
          ],
          "name": "stdout"
        }
      ]
    },
    {
      "cell_type": "markdown",
      "metadata": {
        "id": "_48ZIavsc6D4",
        "colab_type": "text"
      },
      "source": [
        "Auch die [Matrixmultiplikation](https://de.wikipedia.org/wiki/Matrizenmultiplikation) funktioniert - hierfür gibt es sogar einen eigenen Operator (`@`):"
      ]
    },
    {
      "cell_type": "code",
      "metadata": {
        "id": "HtN0ZpGUce0s",
        "colab_type": "code",
        "outputId": "ea154f6c-7c7e-445b-8eac-5f599a6a6865",
        "colab": {
          "base_uri": "https://localhost:8080/",
          "height": 86
        }
      },
      "source": [
        "meine_matrix @ np.transpose(zweite_matrix)"
      ],
      "execution_count": 0,
      "outputs": [
        {
          "output_type": "execute_result",
          "data": {
            "text/plain": [
              "array([[ 51,  35,  43,  84],\n",
              "       [ 72,  73,  26,  84],\n",
              "       [ 54, 100,  31,  94],\n",
              "       [ 48,  79,  18,  68]])"
            ]
          },
          "metadata": {
            "tags": []
          },
          "execution_count": 17
        }
      ]
    },
    {
      "cell_type": "markdown",
      "metadata": {
        "id": "ZjX262UlZ0aZ",
        "colab_type": "text"
      },
      "source": [
        "### 3.2 Das Modul `matplotlib.pyplot`\n",
        "\n",
        "Matplotlib ist ein sehr umfangreiches Modul, mit dem mathematische Visualisierungen aller Art angefertigt werden können. Das Untermodul `pyplot` stellt zahlreiche einfach zu benutzende Funktionen für uns zur Verfügung, weshalb wir uns speziell dieses Untermodul ansehen wollen.\n",
        "\n",
        "Die grafische Ausgabe des Plots wird in Colab in einem eigenen Bereich unterhalb der Code-Zelle angezeigt.\n",
        "\n",
        "Um eine Reihe von Werten zu plotten, können wir der Funktion `plot()` eine Liste übergeben, die als y-Werte dienen. Die zugehörigen x-Werte werden von `plot()` einfach als Sequenz $0, 1, 2, \\ldots$ ergänzt. Die Funktion `show()` zeigt den fertigen Plot an:"
      ]
    },
    {
      "cell_type": "code",
      "metadata": {
        "id": "6Tx2rWnoagCS",
        "colab_type": "code",
        "colab": {}
      },
      "source": [
        "import matplotlib.pyplot as plt"
      ],
      "execution_count": 0,
      "outputs": []
    },
    {
      "cell_type": "code",
      "metadata": {
        "id": "wHS0NVEbgp4U",
        "colab_type": "code",
        "colab": {
          "base_uri": "https://localhost:8080/",
          "height": 265
        },
        "outputId": "24ac587f-5f34-4762-bd51-9d462ba3f237"
      },
      "source": [
        "y = [1.5, 2.4, 3.7, 3.1, 4.2]\n",
        "plt.plot(y)\n",
        "plt.show()"
      ],
      "execution_count": 17,
      "outputs": [
        {
          "output_type": "display_data",
          "data": {
            "image/png": "[encoded data removed]",
            "text/plain": [
              "<Figure size 432x288 with 1 Axes>"
            ]
          },
          "metadata": {
            "tags": [],
            "needs_background": "light"
          }
        }
      ]
    },
    {
      "cell_type": "markdown",
      "metadata": {
        "id": "ncvJvfjShyv9",
        "colab_type": "text"
      },
      "source": [
        "Liegen uns eigene Werte für die x-Koordinaten vor, so können wir zwei Listen übergeben:"
      ]
    },
    {
      "cell_type": "code",
      "metadata": {
        "id": "tp99kN_Uak2W",
        "colab_type": "code",
        "colab": {
          "base_uri": "https://localhost:8080/",
          "height": 265
        },
        "outputId": "4b00343a-c1bf-4411-998f-6129aa5ad257"
      },
      "source": [
        "x = [0.8, 2.4, 7.6, 13.8, 21.2]\n",
        "plt.plot(x, y)\n",
        "plt.show()"
      ],
      "execution_count": 22,
      "outputs": [
        {
          "output_type": "display_data",
          "data": {
            "image/png": "[encoded data removed]",
            "text/plain": [
              "<Figure size 432x288 with 1 Axes>"
            ]
          },
          "metadata": {
            "tags": [],
            "needs_background": "light"
          }
        }
      ]
    },
    {
      "cell_type": "markdown",
      "metadata": {
        "id": "KcvExV7EbmbL",
        "colab_type": "text"
      },
      "source": [
        "`plot()` zeichnet standardmäßig eine durchgezogene blaue Linie zwischen den einzelnen Punkten. Dieses Verhalten lässt sich durch Hinzufügen eines *Formatierungsstrings* als weiteres Argument ändern. Wollen wir zum Beispiel rote Punkte eingezeichnet haben, so geben wir 'ro' an, 'r' steht für die Farbe Rot, 'o' bezeichnet einen ausgefüllten Punkt:"
      ]
    },
    {
      "cell_type": "code",
      "metadata": {
        "id": "0M6bcty4bl77",
        "colab_type": "code",
        "colab": {
          "base_uri": "https://localhost:8080/",
          "height": 265
        },
        "outputId": "135638a0-c342-4e8c-a409-a37386a6fb5b"
      },
      "source": [
        "plt.plot(x, y, 'ro')\n",
        "plt.show()"
      ],
      "execution_count": 34,
      "outputs": [
        {
          "output_type": "display_data",
          "data": {
            "image/png": "[encoded data removed]",
            "text/plain": [
              "<Figure size 432x288 with 1 Axes>"
            ]
          },
          "metadata": {
            "tags": [],
            "needs_background": "light"
          }
        }
      ]
    },
    {
      "cell_type": "markdown",
      "metadata": {
        "id": "Snd8YWDucK8s",
        "colab_type": "text"
      },
      "source": [
        "Die Formatierungsstrings sind an die [Syntax von *Matlab*](https://de.mathworks.com/help/matlab/ref/linespec.html) angelehnt. Es lassen sich verschiedene Linien- (`'-'`, `'--'`, `':'`, `'-.'`) und Punkttypen (`'+'`,  `'*'`, `'.'`, , `'^'`, `'|'`, `'_'`, `','`, `'<'`, `'>'`, `'1'`, `'2'`, `'3'`, `'4'`, `'d'`, `'h'`, `'o'`, `'p'`, `'s'`, `'v'`, `'x'`, `'D'`, `'H'`), sowie Farben (`'r'`, `'g'`, `'b'`, `'c'`, `'m'`, `'y'`, `'k'`, `'w'`) einstellen.\n",
        "\n",
        "Als nächstes wollen wir eine mathematische Funktion plotten, und zwar den Sinus auf dem Intervall $[-2\\pi, 2\\pi)$. Hierzu benötigen wir aus NumPy die Funktion `arange()`, um die x-Werte zu erzeugen. Anschließend können wir mit der NumPy-Funktion `sin()` den Sinus für alle x-Werte berechnen und das Ganze plotten lassen. Die Pyplot-Funktionen `xlabel()` und `ylabel()` fügen den Achsen des Plots Beschriftungen hinzu, mit `title()` geben wir dem ganzen Plot noch einen Titel (die Befehle innerhalb von '\\$' sind $\\mathrm{\\LaTeX}$-Code für den Formelsatz). Bevor `show()` aufgerufen wird, können somit durch Aufruf verschiedener Funktionen dem Plot Komponenten hinzugefügt werden."
      ]
    },
    {
      "cell_type": "code",
      "metadata": {
        "id": "5ItpLg2FZ7a7",
        "colab_type": "code",
        "outputId": "38df4e97-df26-435c-bc4f-633b99be5539",
        "colab": {
          "base_uri": "https://localhost:8080/",
          "height": 297
        }
      },
      "source": [
        "numbers = np.arange(-2*np.pi, 2*np.pi, 0.05)\n",
        "plt.plot(numbers, np.sin(numbers))\n",
        "plt.xlabel('x')\n",
        "plt.ylabel('sin(x)')\n",
        "plt.title('Die Sinus-Funktion auf dem Intervall $[-2 \\pi, 2 \\pi)$')\n",
        "plt.show()"
      ],
      "execution_count": 36,
      "outputs": [
        {
          "output_type": "display_data",
          "data": {
            "image/png": "[encoded data removed]",
            "text/plain": [
              "<Figure size 432x288 with 1 Axes>"
            ]
          },
          "metadata": {
            "tags": [],
            "needs_background": "light"
          }
        }
      ]
    },
    {
      "cell_type": "markdown",
      "metadata": {
        "id": "C9FNbAS3dfxf",
        "colab_type": "text"
      },
      "source": [
        "Es gibt noch viele weitere Plot-Funktionen im Package Pyplot, auf die wir in späteren Sitzungen zurückkommen werden."
      ]
    },
    {
      "cell_type": "markdown",
      "metadata": {
        "id": "zRUDv4sbXsTr",
        "colab_type": "text"
      },
      "source": [
        "### 3.3 Das Modul `folium`\n",
        "\n",
        "Das Modul `folium` dient der Anzeige von interaktiven Karten. Es werden verschiedene \"Tilesets\" als Kartenmaterial unterstützt. Standardmäßig sind zum Beispiel die folgenden Kacheln verfügbar: \n",
        "\n",
        "*  'openstreetmap' (Standardeinstellung),\n",
        "*  'mapquestopen',\n",
        "*  'MapQuest Open Aerial',\n",
        "*  'Stamen Toner',\n",
        "*  'Stamen Terrain'.\n",
        "\n",
        "Die Verwendung von `folium` ist denkbar einfach. Wir können mit `folium.Map()` eine Karte erzeugen, wobei wir verschiedene Parameter übergeben können, unter anderem den Ort (`location`, Koordinaten können z.B. als Tupel oder Liste übergeben werden), der angezeigt wird (Mitte der Karte), die Zoomstufe, mit der die Karte anfänglich gezeigt wird (`zoom_start`), sowie die Höhe (`height`) und Breite (`width`) in Pixeln der Karte. Mit der Funktion `display()` kann anschließend die Karte angezeigt werden:"
      ]
    },
    {
      "cell_type": "code",
      "metadata": {
        "id": "Y8HbYg9zXlI8",
        "colab_type": "code",
        "colab": {}
      },
      "source": [
        "import folium"
      ],
      "execution_count": 0,
      "outputs": []
    },
    {
      "cell_type": "code",
      "metadata": {
        "id": "SD3mfQKj7IgW",
        "colab_type": "code",
        "outputId": "1c66e846-e5df-4d25-9a50-675b9f3defd4",
        "colab": {
          "base_uri": "https://localhost:8080/",
          "height": 915
        }
      },
      "source": [
        "Bonn = (50.7328709, 7.1034639)\n",
        "karte = folium.Map(location=Bonn, zoom_start=15)\n",
        "display(karte)"
      ],
      "execution_count": 0,
      "outputs": [
        {
          "output_type": "display_data",
          "data": {
            "text/html": [
              "<div style=\"width:100%;\"><div style=\"position:relative;width:100%;height:0;padding-bottom:60%;\"><span style=\"color:#565656\">Make this Notebook Trusted to load map: File -> Trust Notebook</span><iframe src=\"about:blank\" style=\"position:absolute;width:100%;height:100%;left:0;top:0;border:none !important;\" data-html=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 onload=\"this.contentDocument.open();this.contentDocument.write(atob(this.getAttribute('data-html')));this.contentDocument.close();\" allowfullscreen webkitallowfullscreen mozallowfullscreen></iframe></div></div>"
            ],
            "text/plain": [
              "<folium.folium.Map at 0x7fb8790126d8>"
            ]
          },
          "metadata": {
            "tags": []
          }
        }
      ]
    },
    {
      "cell_type": "markdown",
      "metadata": {
        "id": "nUJAzRRt6a-k",
        "colab_type": "text"
      },
      "source": [
        "So einfach ist das! \n",
        "\n",
        "Einer Karte können Elemente hinzugefügt werden, zum Beispiel ein Marker, der die durch die Koordinaten angegebene Position anzeigt:"
      ]
    },
    {
      "cell_type": "code",
      "metadata": {
        "id": "Ng63CgOZ6c4I",
        "colab_type": "code",
        "outputId": "7421ae9a-338c-477f-ef08-50176dd7956a",
        "colab": {
          "base_uri": "https://localhost:8080/",
          "height": 915
        }
      },
      "source": [
        "Bonn = (50.7328709, 7.1034639)\n",
        "karte = folium.Map(location=Bonn, zoom_start=15)\n",
        "folium.Marker(Bonn).add_to(karte)\n",
        "display(karte)"
      ],
      "execution_count": 0,
      "outputs": [
        {
          "output_type": "display_data",
          "data": {
            "text/html": [
              "<div style=\"width:100%;\"><div style=\"position:relative;width:100%;height:0;padding-bottom:60%;\"><span style=\"color:#565656\">Make this Notebook Trusted to load map: File -> Trust Notebook</span><iframe src=\"about:blank\" style=\"position:absolute;width:100%;height:100%;left:0;top:0;border:none !important;\" data-html=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 onload=\"this.contentDocument.open();this.contentDocument.write(atob(this.getAttribute('data-html')));this.contentDocument.close();\" allowfullscreen webkitallowfullscreen mozallowfullscreen></iframe></div></div>"
            ],
            "text/plain": [
              "<folium.folium.Map at 0x7fb879077320>"
            ]
          },
          "metadata": {
            "tags": []
          }
        }
      ]
    },
    {
      "cell_type": "markdown",
      "metadata": {
        "id": "NnGUpXar7vPl",
        "colab_type": "text"
      },
      "source": [
        "Neben den Standard-Tilesets gibt es noch weitere, insbesondere solche mit Luftbildaufnahmen, z.B. von Google:\n",
        "\n",
        "*  Google Maps Vektor-Layer: 'http://mt0.google.com/vt/lyrs=m&x={x}&y={y}&z={z}'\n",
        "*  Google Maps Satelliten-Layer: 'http://mt0.google.com/vt/lyrs=s&x={x}&y={y}&z={z}'\n",
        "*  Google Maps Kombi-Layer: 'http://mt0.google.com/vt/lyrs=y&x={x}&y={y}&z={z}'\n",
        "\n",
        "Mit dem Parameter `tiles` kann ein anderes Tileset ausgewählt werden. Bei externen Tilesets muß außerdem über den Parameter `attr` ein Hinweis auf den Urheber hinzugefügt werden:"
      ]
    },
    {
      "cell_type": "code",
      "metadata": {
        "id": "xxyCLeTg7vwi",
        "colab_type": "code",
        "outputId": "d5863066-d4bf-46a8-e5f9-175315fc5bcf",
        "colab": {
          "base_uri": "https://localhost:8080/",
          "height": 915
        }
      },
      "source": [
        "Bonn = (50.7328709, 7.1034639)\n",
        "karte = folium.Map(\n",
        "    location=Bonn,\n",
        "    zoom_start=15,\n",
        "    tiles='http://mt0.google.com/vt/lyrs=y&x={x}&y={y}&z={z}',\n",
        "    attr=\"Google Maps\"\n",
        ")\n",
        "folium.Marker(Bonn).add_to(karte)\n",
        "display(karte)"
      ],
      "execution_count": 0,
      "outputs": [
        {
          "output_type": "display_data",
          "data": {
            "text/html": [
              "<div style=\"width:100%;\"><div style=\"position:relative;width:100%;height:0;padding-bottom:60%;\"><span style=\"color:#565656\">Make this Notebook Trusted to load map: File -> Trust Notebook</span><iframe src=\"about:blank\" style=\"position:absolute;width:100%;height:100%;left:0;top:0;border:none !important;\" data-html=PCFET0NUWVBFIGh0bWw+CjxoZWFkPiAgICAKICAgIDxtZXRhIGh0dHAtZXF1aXY9ImNvbnRlbnQtdHlwZSIgY29udGVudD0idGV4dC9odG1sOyBjaGFyc2V0PVVURi04IiAvPgogICAgPHNjcmlwdD5MX1BSRUZFUl9DQU5WQVM9ZmFsc2U7IExfTk9fVE9VQ0g9ZmFsc2U7IExfRElTQUJMRV8zRD1mYWxzZTs8L3NjcmlwdD4KICAgIDxzY3JpcHQgc3JjPSJodHRwczovL2Nkbi5qc2RlbGl2ci5uZXQvbnBtL2xlYWZsZXRAMS40LjAvZGlzdC9sZWFmbGV0LmpzIj48L3NjcmlwdD4KICAgIDxzY3JpcHQgc3JjPSJodHRwczovL2NvZGUuanF1ZXJ5LmNvbS9qcXVlcnktMS4xMi40Lm1pbi5qcyI+PC9zY3JpcHQ+CiAgICA8c2NyaXB0IHNyYz0iaHR0cHM6Ly9tYXhjZG4uYm9vdHN0cmFwY2RuLmNvbS9ib290c3RyYXAvMy4yLjAvanMvYm9vdHN0cmFwLm1pbi5qcyI+PC9zY3JpcHQ+CiAgICA8c2NyaXB0IHNyYz0iaHR0cHM6Ly9jZG5qcy5jbG91ZGZsYXJlLmNvbS9hamF4L2xpYnMvTGVhZmxldC5hd2Vzb21lLW1hcmtlcnMvMi4wLjIvbGVhZmxldC5hd2Vzb21lLW1hcmtlcnMuanMiPjwvc2NyaXB0PgogICAgPGxpbmsgcmVsPSJzdHlsZXNoZWV0IiBocmVmPSJodHRwczovL2Nkbi5qc2RlbGl2ci5uZXQvbnBtL2xlYWZsZXRAMS40LjAvZGlzdC9sZWFmbGV0LmNzcyIvPgogICAgPGxpbmsgcmVsPSJzdHlsZXNoZWV0IiBocmVmPSJodHRwczovL21heGNkbi5ib290c3RyYXBjZG4uY29tL2Jvb3RzdHJhcC8zLjIuMC9jc3MvYm9vdHN0cmFwLm1pbi5jc3MiLz4KICAgIDxsaW5rIHJlbD0ic3R5bGVzaGVldCIgaHJlZj0iaHR0cHM6Ly9tYXhjZG4uYm9vdHN0cmFwY2RuLmNvbS9ib290c3RyYXAvMy4yLjAvY3NzL2Jvb3RzdHJhcC10aGVtZS5taW4uY3NzIi8+CiAgICA8bGluayByZWw9InN0eWxlc2hlZXQiIGhyZWY9Imh0dHBzOi8vbWF4Y2RuLmJvb3RzdHJhcGNkbi5jb20vZm9udC1hd2Vzb21lLzQuNi4zL2Nzcy9mb250LWF3ZXNvbWUubWluLmNzcyIvPgogICAgPGxpbmsgcmVsPSJzdHlsZXNoZWV0IiBocmVmPSJodHRwczovL2NkbmpzLmNsb3VkZmxhcmUuY29tL2FqYXgvbGlicy9MZWFmbGV0LmF3ZXNvbWUtbWFya2Vycy8yLjAuMi9sZWFmbGV0LmF3ZXNvbWUtbWFya2Vycy5jc3MiLz4KICAgIDxsaW5rIHJlbD0ic3R5bGVzaGVldCIgaHJlZj0iaHR0cHM6Ly9yYXdjZG4uZ2l0aGFjay5jb20vcHl0aG9uLXZpc3VhbGl6YXRpb24vZm9saXVtL21hc3Rlci9mb2xpdW0vdGVtcGxhdGVzL2xlYWZsZXQuYXdlc29tZS5yb3RhdGUuY3NzIi8+CiAgICA8c3R5bGU+aHRtbCwgYm9keSB7d2lkdGg6IDEwMCU7aGVpZ2h0OiAxMDAlO21hcmdpbjogMDtwYWRkaW5nOiAwO308L3N0eWxlPgogICAgPHN0eWxlPiNtYXAge3Bvc2l0aW9uOmFic29sdXRlO3RvcDowO2JvdHRvbTowO3JpZ2h0OjA7bGVmdDowO308L3N0eWxlPgogICAgCiAgICA8bWV0YSBuYW1lPSJ2aWV3cG9ydCIgY29udGVudD0id2lkdGg9ZGV2aWNlLXdpZHRoLAogICAgICAgIGluaXRpYWwtc2NhbGU9MS4wLCBtYXhpbXVtLXNjYWxlPTEuMCwgdXNlci1zY2FsYWJsZT1ubyIgLz4KICAgIDxzdHlsZT4jbWFwX2ZkN2Y0NTc1M2JiNzRlNzk5OTgzYzFhYjJlYTBjN2M3IHsKICAgICAgICBwb3NpdGlvbjogcmVsYXRpdmU7CiAgICAgICAgd2lkdGg6IDEwMC4wJTsKICAgICAgICBoZWlnaHQ6IDEwMC4wJTsKICAgICAgICBsZWZ0OiAwLjAlOwogICAgICAgIHRvcDogMC4wJTsKICAgICAgICB9CiAgICA8L3N0eWxlPgo8L2hlYWQ+Cjxib2R5PiAgICAKICAgIAogICAgPGRpdiBjbGFzcz0iZm9saXVtLW1hcCIgaWQ9Im1hcF9mZDdmNDU3NTNiYjc0ZTc5OTk4M2MxYWIyZWEwYzdjNyIgPjwvZGl2Pgo8L2JvZHk+CjxzY3JpcHQ+ICAgIAogICAgCiAgICAKICAgICAgICB2YXIgYm91bmRzID0gbnVsbDsKICAgIAoKICAgIHZhciBtYXBfZmQ3ZjQ1NzUzYmI3NGU3OTk5ODNjMWFiMmVhMGM3YzcgPSBMLm1hcCgKICAgICAgICAnbWFwX2ZkN2Y0NTc1M2JiNzRlNzk5OTgzYzFhYjJlYTBjN2M3JywgewogICAgICAgIGNlbnRlcjogWzUwLjczMjg3MDksIDcuMTAzNDYzOV0sCiAgICAgICAgem9vbTogMTUsCiAgICAgICAgbWF4Qm91bmRzOiBib3VuZHMsCiAgICAgICAgbGF5ZXJzOiBbXSwKICAgICAgICB3b3JsZENvcHlKdW1wOiBmYWxzZSwKICAgICAgICBjcnM6IEwuQ1JTLkVQU0czODU3LAogICAgICAgIHpvb21Db250cm9sOiB0cnVlLAogICAgICAgIH0pOwoKCiAgICAKICAgIHZhciB0aWxlX2xheWVyXzMzYjUzMzRkODA0OTQ0ZTQ5ODlhMjA0NjYzZTNlOGM2ID0gTC50aWxlTGF5ZXIoCiAgICAgICAgJ2h0dHA6Ly9tdDAuZ29vZ2xlLmNvbS92dC9seXJzPXkmeD17eH0meT17eX0mej17en0nLAogICAgICAgIHsKICAgICAgICAiYXR0cmlidXRpb24iOiAiR29vZ2xlIE1hcHMiLAogICAgICAgICJkZXRlY3RSZXRpbmEiOiBmYWxzZSwKICAgICAgICAibWF4TmF0aXZlWm9vbSI6IDE4LAogICAgICAgICJtYXhab29tIjogMTgsCiAgICAgICAgIm1pblpvb20iOiAwLAogICAgICAgICJub1dyYXAiOiBmYWxzZSwKICAgICAgICAib3BhY2l0eSI6IDEsCiAgICAgICAgInN1YmRvbWFpbnMiOiAiYWJjIiwKICAgICAgICAidG1zIjogZmFsc2UKfSkuYWRkVG8obWFwX2ZkN2Y0NTc1M2JiNzRlNzk5OTgzYzFhYjJlYTBjN2M3KTsKICAgIAogICAgICAgIHZhciBtYXJrZXJfZGJiOTQyMmRiYWVlNDIzOWI1ZTVkNzQ3MDhhMmI3NDUgPSBMLm1hcmtlcigKICAgICAgICAgICAgWzUwLjczMjg3MDksIDcuMTAzNDYzOV0sCiAgICAgICAgICAgIHsKICAgICAgICAgICAgICAgIGljb246IG5ldyBMLkljb24uRGVmYXVsdCgpLAogICAgICAgICAgICAgICAgfQogICAgICAgICAgICApLmFkZFRvKG1hcF9mZDdmNDU3NTNiYjc0ZTc5OTk4M2MxYWIyZWEwYzdjNyk7CiAgICAgICAgCjwvc2NyaXB0Pg== onload=\"this.contentDocument.open();this.contentDocument.write(atob(this.getAttribute('data-html')));this.contentDocument.close();\" allowfullscreen webkitallowfullscreen mozallowfullscreen></iframe></div></div>"
            ],
            "text/plain": [
              "<folium.folium.Map at 0x7fb8790129b0>"
            ]
          },
          "metadata": {
            "tags": []
          }
        }
      ]
    },
    {
      "cell_type": "markdown",
      "metadata": {
        "id": "AGyAuyjLeciJ",
        "colab_type": "text"
      },
      "source": [
        "## Übungsaufgaben\n",
        "\n",
        "Für die Bearbeitung der Übungsaufgaben haben Sie eine Woche Zeit (bis 22. Mai 2020, 23:55 Uhr). Legen Sie hierfür bitte ein neues Colab-Notebook an (File->New Notebook) und fügen Sie für jede Aufgabe eine neue Code-Zelle hinzu (Insert->Code cell). Erklärungen können Sie entweder als Kommentar zum Python-Code hinzufügen oder als Text-Zelle (Insert->Text cell). Für die Abgabe exportieren Sie bitte das Notebook (File->Download .ipynb) und laden Sie die exportierte Datei in eCampus als Lösung zur Übung herauf.\n",
        "\n",
        "Viel Spaß und viel Erfolg!\n",
        "\n",
        "1.   **Vermessung mit Tape-and-Compass**: Sie sind unterwegs im Feld und finden eine sensationelle, bisher unentdeckte archäologische Stätte. Sie beschließen, eine halbwegs genaue Karte zu erstellen und die Stätte mit Maßband und Kompass zu vermessen. Das Maßband gibt Ihnen dabei die Distanz zwischen zwei Punkten und der Kompass die Abweichung von der Nord-Richtung. Sie verwenden ein spezielles Kompass-Modell, dessen Skala gegen den Uhrzeigersinn läuft, und bei dem \"Norden\" auf 90° liegt (damit es keine Inkompatibilitäten zu Pythons mathematischen Funktionen gibt).\n",
        "\n",
        "  Die folgenden Messwerte haben Sie bereits in einer geeigneten Datenstruktur abgespeichert (eine Liste von Tupeln, in den Tupel ist der erste Wert immer der Winkel, der zweite die Distanz):"
      ]
    },
    {
      "cell_type": "code",
      "metadata": {
        "id": "yPyIEpXILRtO",
        "colab_type": "code",
        "colab": {}
      },
      "source": [
        "measurements = [(90, 5), (180, 8), (270, 5), (0, 8)]"
      ],
      "execution_count": 0,
      "outputs": []
    },
    {
      "cell_type": "markdown",
      "metadata": {
        "id": "sOlcQhhVLQLA",
        "colab_type": "text"
      },
      "source": [
        "* Bei diesen Koordinaten handelt es sich um sogenannte *Polarkoordinaten*. Was Sie allerdings gerne hätten, sind *Kartesische Koordinaten*. Sie müssen also eine Umwandlung vornehmen...\n",
        "\n",
        "  Ihr Ziel ist es, das gerade frisch vermessene Gebäude aufzuplotten. Diese Aufgabe können Sie wie folgt in Teilaufgaben unterteilen:\n",
        "\n",
        "  1.   Schreiben Sie eine Funktion, die für einen gegebenen **Winkel** $\\alpha$ und eine **Distanz** $d$ (in Metern) eine Umrechnung von Polar- in Kartesische Koordinaten durchführt. Zum Glück gibt es einfache Umrechnungsformeln, mit denen Sie `x`- und `y`-Koordinaten erhalten:\n",
        "$$x = d \\cdot \\cos(\\alpha)\\enspace,$$\n",
        "$$y = d \\cdot \\sin(\\alpha)\\enspace.$$\n",
        "       **Achtung**: die Funktionen aus dem `math`-Modul von Python arbeiten *nicht* mit Winkeln, sondern mit Radianten!\n",
        "\n",
        "  2.   Legen Sie eine Liste mit den Kartesischen Koordinaten für die Messwerte an. Die erste Koordinate setzen (frei gewählt) auf die Werte \n",
        "$$x=500\\enspace,\\quad y=600\\enspace.$$\n",
        "Beachten Sie, dass Sie beim von Punkt zu Punkt gehen immer die vorhergehende (kartesische) Koordinate zu der neuen Koordinate (aus der Umwandlung der Polarkoordinaten) addieren müssen!\n",
        "\n",
        "  3.   Plotten Sie das Gebäude. Sollten Sie die Kartesischen Koordinaten als Liste von Tupeln der Form `(x, y)` speichern (was durchaus praktisch wäre...), dann müssen Sie, um das gewünschte Plot-Ergebnis zu erhalten, die Funktion `zip()` zusammen mit dem `*`-Operator verwenden: \n",
        "  \n",
        "       `*zip(*meine_liste_von_tupeln)`\n",
        "\n",
        "     Dieser - sehr merkwürdig anmutende Ausdruck - trennt in einer Liste von Tupeln die Tupel auf, also quasi wie ein Reißverschluß, und übergibt ensprechend einmal alle `x`- und einmal alle `y`-Koordinaten an die Plot-Funktion. Der `*`-Operator löst dabei die äußere Datenstruktur auf, also, der innere Teil des Ausdrucks, `*meine_liste_von_tupeln`, sorgt dafür, dass statt der *Liste* von Tupeln jetzt einfach nur noch die Tupel übergeben werden, und zwar an Zip, welches **eine Anzahl von Tupeln mit *zwei* Werten** in **zwei Tupel mit *einer Anzahl* von Werten** macht. Das äußere `*` wird benötigt, um die Tupel tatsächlich zu erzeugen und an die `plot()`-Funktion zu übergeben (`zip()` ist eine \"lazy\" Funktion, die erst angestossen werden muss, bevor Sie ihre Werte generiert)."
      ]
    },
    {
      "cell_type": "markdown",
      "metadata": {
        "id": "JBsUSwAKuD3T",
        "colab_type": "text"
      },
      "source": [
        "2.  **World Heritage Sites**: In Sitzung 3 hatten wir mit verschiedenen Weltkulturerbestätten gearbeitet, diese liegen jetzt als Wörterbuch vor und sind mit Koordinaten (als Tupel) versehen, die Sie verwenden können, um diese Stätten auf einem Satellitenbild anzuzeigen (zum Beispiel mit dem Google-Tileset)!\n",
        "\n",
        "  Ihre Aufgabe besteht darin, ein kleines interaktives Programm zu schreiben, das den Benutzer fragt, welche Weltkulturerbestätte er gerne sehen möchte und auf Eingabe einer der Stätten in der Liste diese auf einem Satellitenbild anzeigt.\n",
        "\n",
        "  Das Wörterbuch mit den Namen der Stätten als Schlüssel und den Koordinatenpaaren als zugeordnete Werte sieht wie folgt aus:"
      ]
    },
    {
      "cell_type": "code",
      "metadata": {
        "id": "4YBR389Hu1mP",
        "colab_type": "code",
        "colab": {}
      },
      "source": [
        "world_heritage_sites = {\n",
        "    'Machu Picchu': (-13.1635, 72.5457),\n",
        "    'Giza': (29.9766, 31.1330),\n",
        "    'Angkor Wat': (13.4125, 103.8665),\n",
        "    'Stonehenge': (51.1788, -1.8261),\n",
        "    'Petra': (30.3285, 35.4445),\n",
        "    'Thebes': (25.7205, 32.6103),\n",
        "    'Tikal': (17.2221, -89.6235)\n",
        "}"
      ],
      "execution_count": 0,
      "outputs": []
    }
  ]
}